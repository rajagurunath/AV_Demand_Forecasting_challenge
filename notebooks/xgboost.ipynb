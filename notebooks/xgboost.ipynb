{
 "cells": [
  {
   "cell_type": "code",
   "execution_count": 13,
   "metadata": {},
   "outputs": [],
   "source": [
    "from xgboost import XGBRegressor\n",
    "import pandas as pd\n",
    "DataFrame=pd.DataFrame"
   ]
  },
  {
   "cell_type": "code",
   "execution_count": 4,
   "metadata": {},
   "outputs": [],
   "source": [
    "train=pd.read_csv(r'data/train.csv')\n",
    "test=pd.read_csv(r'data/test_QoiMO9B.csv')\n",
    "center_info=pd.read_csv(r'data/fulfilment_center_info.csv')\n",
    "meal_info=pd.read_csv(r'data/meal_info.csv')"
   ]
  },
  {
   "cell_type": "code",
   "execution_count": 3,
   "metadata": {},
   "outputs": [],
   "source": [
    "def merge_df(df1,df2,df3,col1,col2):\n",
    "    tmp=pd.merge(df1,df2,on=col1)\n",
    "    tmp=pd.merge(tmp,df3,on=col2)\n",
    "    return tmp"
   ]
  },
  {
   "cell_type": "code",
   "execution_count": 10,
   "metadata": {},
   "outputs": [],
   "source": [
    "def preprocess_data(df):\n",
    "    merged=merge_df(df,center_info,meal_info,'center_id','meal_id')\n",
    "    print(merged.head())\n",
    "    return merged"
   ]
  },
  {
   "cell_type": "code",
   "execution_count": 78,
   "metadata": {},
   "outputs": [],
   "source": [
    "class TabularProc():\n",
    "    \"A processor for tabular dataframes.\"\n",
    "    def __init__(self,cat_names,cont_names):\n",
    "        self.cat_names=cat_names\n",
    "        self.cont_names=cont_names\n",
    "\n",
    "    def __call__(self, df:DataFrame, test:bool=False):\n",
    "        \"Apply the correct function to `df` depending on `test`.\"\n",
    "        func = self.apply_test if test else self.apply_train\n",
    "        func(df)\n",
    "\n",
    "    def apply_train(self, df:DataFrame):\n",
    "        \"Function applied to `df` if it's the train set.\"\n",
    "        raise NotImplementedError\n",
    "    def apply_test(self, df:DataFrame):\n",
    "        \"Function applied to `df` if it's the test set.\"\n",
    "        self.apply_train(df)\n",
    "\n",
    "class Categorify(TabularProc):\n",
    "    \"Transform the categorical variables to that type.\"\n",
    "    def apply_train(self, df:DataFrame):\n",
    "        \"Transform `self.cat_names` columns in categorical.\"\n",
    "        self.categories = {}\n",
    "        for n in self.cat_names:\n",
    "            df.loc[:,n] = df.loc[:,n].astype('category').cat.as_ordered()\n",
    "            self.categories[n] = df[n].cat.categories\n",
    "            df.loc[:,n]=df.loc[:,n].cat.codes\n",
    "            \n",
    "\n",
    "    def apply_test(self, df:DataFrame):\n",
    "        \"Transform `self.cat_names` columns in categorical using the codes decided in `apply_train`.\"\n",
    "        for n in self.cat_names:            \n",
    "            df.loc[:,n] = pd.Categorical(df[n], categories=self.categories[n], ordered=True).codes\n",
    "\n",
    "class Normalize(TabularProc):\n",
    "    \"Normalize the continuous variables.\"\n",
    "    def apply_train(self, df:DataFrame):\n",
    "        \"Comput the means and stds of `self.cont_names` columns to normalize them.\"\n",
    "        self.means,self.stds = {},{}\n",
    "        for n in self.cont_names:\n",
    "            self.means[n],self.stds[n] = df.loc[:,n].mean(),df.loc[:,n].std()\n",
    "            df.loc[:,n] = (df.loc[:,n]-self.means[n]) / (1e-7 + self.stds[n])\n",
    "\n",
    "    def apply_test(self, df:DataFrame):\n",
    "        \"Normalize `self.cont_names` with the same statistics as in `apply_train`.\"\n",
    "        for n in self.cont_names:\n",
    "            df.loc[:,n] = (df.loc[:,n]-self.means[n]) / (1e-7 + self.stds[n])\n"
   ]
  },
  {
   "cell_type": "code",
   "execution_count": 126,
   "metadata": {},
   "outputs": [],
   "source": [
    "dep_var = 'num_orders'\n",
    "cat_names=['emailer_for_promotion','homepage_featured','category','cuisine','city_code','region_code','center_type','week']\n",
    "cont_names=['base_price','checkout_price','op_area']"
   ]
  },
  {
   "cell_type": "code",
   "execution_count": 134,
   "metadata": {},
   "outputs": [
    {
     "name": "stdout",
     "output_type": "stream",
     "text": [
      "        id  week  center_id  meal_id  checkout_price   ...     region_code  center_type  op_area   category  cuisine\n",
      "0  1379560     1         55     1885          136.83   ...              56       TYPE_C      2.0  Beverages     Thai\n",
      "1  1018704     2         55     1885          135.83   ...              56       TYPE_C      2.0  Beverages     Thai\n",
      "2  1196273     3         55     1885          132.92   ...              56       TYPE_C      2.0  Beverages     Thai\n",
      "3  1116527     4         55     1885          135.86   ...              56       TYPE_C      2.0  Beverages     Thai\n",
      "4  1343872     5         55     1885          146.50   ...              56       TYPE_C      2.0  Beverages     Thai\n",
      "\n",
      "[5 rows x 15 columns]\n",
      "        id  week  center_id  meal_id  checkout_price   ...     region_code  center_type  op_area   category  cuisine\n",
      "0  1028232   146         55     1885          158.11   ...              56       TYPE_C      2.0  Beverages     Thai\n",
      "1  1262649   147         55     1885          159.11   ...              56       TYPE_C      2.0  Beverages     Thai\n",
      "2  1453211   149         55     1885          157.14   ...              56       TYPE_C      2.0  Beverages     Thai\n",
      "3  1262599   150         55     1885          159.14   ...              56       TYPE_C      2.0  Beverages     Thai\n",
      "4  1495848   151         55     1885          160.11   ...              56       TYPE_C      2.0  Beverages     Thai\n",
      "\n",
      "[5 rows x 14 columns]\n"
     ]
    },
    {
     "data": {
      "text/plain": [
       "(        id  week  center_id  meal_id  checkout_price   ...     region_code  center_type  op_area   category  cuisine\n",
       " 0  1379560     1         55     1885          136.83   ...              56       TYPE_C      2.0  Beverages     Thai\n",
       " 1  1018704     2         55     1885          135.83   ...              56       TYPE_C      2.0  Beverages     Thai\n",
       " 2  1196273     3         55     1885          132.92   ...              56       TYPE_C      2.0  Beverages     Thai\n",
       " 3  1116527     4         55     1885          135.86   ...              56       TYPE_C      2.0  Beverages     Thai\n",
       " 4  1343872     5         55     1885          146.50   ...              56       TYPE_C      2.0  Beverages     Thai\n",
       " \n",
       " [5 rows x 15 columns],\n",
       "         id  week  center_id  meal_id  checkout_price   ...     region_code  center_type  op_area   category  cuisine\n",
       " 0  1028232   146         55     1885          158.11   ...              56       TYPE_C      2.0  Beverages     Thai\n",
       " 1  1262649   147         55     1885          159.11   ...              56       TYPE_C      2.0  Beverages     Thai\n",
       " 2  1453211   149         55     1885          157.14   ...              56       TYPE_C      2.0  Beverages     Thai\n",
       " 3  1262599   150         55     1885          159.14   ...              56       TYPE_C      2.0  Beverages     Thai\n",
       " 4  1495848   151         55     1885          160.11   ...              56       TYPE_C      2.0  Beverages     Thai\n",
       " \n",
       " [5 rows x 14 columns])"
      ]
     },
     "execution_count": 134,
     "metadata": {},
     "output_type": "execute_result"
    }
   ],
   "source": [
    "train_processed=preprocess_data(train)\n",
    "test_processed=preprocess_data(test)\n",
    "train_processed.head(),test_processed.head()"
   ]
  },
  {
   "cell_type": "code",
   "execution_count": null,
   "metadata": {},
   "outputs": [],
   "source": []
  },
  {
   "cell_type": "code",
   "execution_count": 79,
   "metadata": {},
   "outputs": [],
   "source": [
    "cat=Categorify(cat_names=cat_names,cont_names=cont_names)\n",
    "#norm=Normalize(cat_names=cat_names,cont_names=cont_names)"
   ]
  },
  {
   "cell_type": "code",
   "execution_count": 131,
   "metadata": {},
   "outputs": [],
   "source": [
    "cat.apply_train(train_processed)\n",
    "#norm.apply_train(train_processed)"
   ]
  },
  {
   "cell_type": "code",
   "execution_count": 133,
   "metadata": {},
   "outputs": [
    {
     "data": {
      "text/plain": [
       "0           0\n",
       "1           1\n",
       "2           2\n",
       "3           3\n",
       "4           4\n",
       "5           5\n",
       "6           6\n",
       "7           7\n",
       "8           8\n",
       "9           9\n",
       "10         10\n",
       "11         11\n",
       "12         12\n",
       "13         13\n",
       "14         14\n",
       "15         15\n",
       "16         16\n",
       "17         17\n",
       "18         18\n",
       "19         19\n",
       "20         20\n",
       "21         21\n",
       "22         22\n",
       "23         23\n",
       "24         24\n",
       "25         25\n",
       "26         26\n",
       "27         27\n",
       "28         28\n",
       "29         29\n",
       "         ... \n",
       "456518    115\n",
       "456519    116\n",
       "456520    117\n",
       "456521    118\n",
       "456522    119\n",
       "456523    120\n",
       "456524    121\n",
       "456525    122\n",
       "456526    123\n",
       "456527    124\n",
       "456528    125\n",
       "456529    126\n",
       "456530    127\n",
       "456531    128\n",
       "456532    129\n",
       "456533    130\n",
       "456534    131\n",
       "456535    132\n",
       "456536    133\n",
       "456537    134\n",
       "456538    135\n",
       "456539    136\n",
       "456540    137\n",
       "456541    138\n",
       "456542    139\n",
       "456543    140\n",
       "456544    141\n",
       "456545    142\n",
       "456546    143\n",
       "456547    144\n",
       "Name: week, Length: 456548, dtype: int16"
      ]
     },
     "execution_count": 133,
     "metadata": {},
     "output_type": "execute_result"
    }
   ],
   "source": [
    "train_processed"
   ]
  },
  {
   "cell_type": "code",
   "execution_count": 61,
   "metadata": {},
   "outputs": [
    {
     "data": {
      "text/plain": [
       "((451548, 15), (5000, 15))"
      ]
     },
     "execution_count": 61,
     "metadata": {},
     "output_type": "execute_result"
    }
   ],
   "source": [
    "train_processed1=train_processed.iloc[:-5000]\n",
    "train_processed2=train_processed.iloc[-5000:]\n",
    "train_processed1.shape,train_processed2.shape"
   ]
  },
  {
   "cell_type": "code",
   "execution_count": 98,
   "metadata": {},
   "outputs": [],
   "source": [
    "xgbReg=XGBRegressor(max_depth=5,learning_rate=0.01,n_estimators=300)"
   ]
  },
  {
   "cell_type": "code",
   "execution_count": 99,
   "metadata": {},
   "outputs": [
    {
     "data": {
      "text/plain": [
       "XGBRegressor(base_score=0.5, booster='gbtree', colsample_bylevel=1,\n",
       "       colsample_bytree=1, gamma=0, learning_rate=0.01, max_delta_step=0,\n",
       "       max_depth=5, min_child_weight=1, missing=None, n_estimators=300,\n",
       "       n_jobs=1, nthread=None, objective='reg:linear', random_state=0,\n",
       "       reg_alpha=0, reg_lambda=1, scale_pos_weight=1, seed=None,\n",
       "       silent=True, subsample=1)"
      ]
     },
     "execution_count": 99,
     "metadata": {},
     "output_type": "execute_result"
    }
   ],
   "source": [
    "xgbReg.fit(train_processed1[cat_names+cont_names],train_processed1['num_orders'],)"
   ]
  },
  {
   "cell_type": "code",
   "execution_count": 100,
   "metadata": {},
   "outputs": [],
   "source": [
    "predicted=xgbReg.predict(train_processed2[cat_names+cont_names])"
   ]
  },
  {
   "cell_type": "code",
   "execution_count": 69,
   "metadata": {},
   "outputs": [],
   "source": [
    "import matplotlib.pyplot as plt\n",
    "from sklearn.metrics import mean_squared_log_error"
   ]
  },
  {
   "cell_type": "code",
   "execution_count": 101,
   "metadata": {},
   "outputs": [
    {
     "name": "stderr",
     "output_type": "stream",
     "text": [
      "Exception ignored in: <bound method DMatrix.__del__ of <xgboost.core.DMatrix object at 0x000001FF1662AE48>>\n",
      "Traceback (most recent call last):\n",
      "  File \"F:\\anaconda\\lib\\site-packages\\xgboost\\core.py\", line 482, in __del__\n",
      "    if self.handle is not None:\n",
      "AttributeError: 'DMatrix' object has no attribute 'handle'\n"
     ]
    },
    {
     "data": {
      "image/png": "[encoded data removed]",
      "text/plain": [
       "<Figure size 432x288 with 1 Axes>"
      ]
     },
     "metadata": {},
     "output_type": "display_data"
    }
   ],
   "source": [
    "plt.plot(predicted,label='predicted')\n",
    "plt.plot(train_processed2['num_orders'].values,label='actual')\n",
    "plt.legend()\n",
    "plt.show()\n"
   ]
  },
  {
   "cell_type": "code",
   "execution_count": 102,
   "metadata": {},
   "outputs": [
    {
     "data": {
      "text/html": [
       "<div>\n",
       "<style scoped>\n",
       "    .dataframe tbody tr th:only-of-type {\n",
       "        vertical-align: middle;\n",
       "    }\n",
       "\n",
       "    .dataframe tbody tr th {\n",
       "        vertical-align: top;\n",
       "    }\n",
       "\n",
       "    .dataframe thead th {\n",
       "        text-align: right;\n",
       "    }\n",
       "</style>\n",
       "<table border=\"1\" class=\"dataframe\">\n",
       "  <thead>\n",
       "    <tr style=\"text-align: right;\">\n",
       "      <th></th>\n",
       "      <th>id</th>\n",
       "      <th>week</th>\n",
       "      <th>center_id</th>\n",
       "      <th>meal_id</th>\n",
       "      <th>checkout_price</th>\n",
       "      <th>base_price</th>\n",
       "      <th>emailer_for_promotion</th>\n",
       "      <th>homepage_featured</th>\n",
       "      <th>city_code</th>\n",
       "      <th>region_code</th>\n",
       "      <th>center_type</th>\n",
       "      <th>op_area</th>\n",
       "      <th>category</th>\n",
       "      <th>cuisine</th>\n",
       "    </tr>\n",
       "  </thead>\n",
       "  <tbody>\n",
       "    <tr>\n",
       "      <th>0</th>\n",
       "      <td>1028232</td>\n",
       "      <td>-1</td>\n",
       "      <td>55</td>\n",
       "      <td>1885</td>\n",
       "      <td>158.11</td>\n",
       "      <td>159.11</td>\n",
       "      <td>0</td>\n",
       "      <td>0</td>\n",
       "      <td>-1</td>\n",
       "      <td>-1</td>\n",
       "      <td>-1</td>\n",
       "      <td>2.0</td>\n",
       "      <td>-1</td>\n",
       "      <td>-1</td>\n",
       "    </tr>\n",
       "    <tr>\n",
       "      <th>1</th>\n",
       "      <td>1262649</td>\n",
       "      <td>-1</td>\n",
       "      <td>55</td>\n",
       "      <td>1885</td>\n",
       "      <td>159.11</td>\n",
       "      <td>159.11</td>\n",
       "      <td>0</td>\n",
       "      <td>0</td>\n",
       "      <td>-1</td>\n",
       "      <td>-1</td>\n",
       "      <td>-1</td>\n",
       "      <td>2.0</td>\n",
       "      <td>-1</td>\n",
       "      <td>-1</td>\n",
       "    </tr>\n",
       "    <tr>\n",
       "      <th>2</th>\n",
       "      <td>1453211</td>\n",
       "      <td>-1</td>\n",
       "      <td>55</td>\n",
       "      <td>1885</td>\n",
       "      <td>157.14</td>\n",
       "      <td>158.14</td>\n",
       "      <td>0</td>\n",
       "      <td>0</td>\n",
       "      <td>-1</td>\n",
       "      <td>-1</td>\n",
       "      <td>-1</td>\n",
       "      <td>2.0</td>\n",
       "      <td>-1</td>\n",
       "      <td>-1</td>\n",
       "    </tr>\n",
       "    <tr>\n",
       "      <th>3</th>\n",
       "      <td>1262599</td>\n",
       "      <td>-1</td>\n",
       "      <td>55</td>\n",
       "      <td>1885</td>\n",
       "      <td>159.14</td>\n",
       "      <td>157.14</td>\n",
       "      <td>0</td>\n",
       "      <td>0</td>\n",
       "      <td>-1</td>\n",
       "      <td>-1</td>\n",
       "      <td>-1</td>\n",
       "      <td>2.0</td>\n",
       "      <td>-1</td>\n",
       "      <td>-1</td>\n",
       "    </tr>\n",
       "    <tr>\n",
       "      <th>4</th>\n",
       "      <td>1495848</td>\n",
       "      <td>-1</td>\n",
       "      <td>55</td>\n",
       "      <td>1885</td>\n",
       "      <td>160.11</td>\n",
       "      <td>159.11</td>\n",
       "      <td>0</td>\n",
       "      <td>0</td>\n",
       "      <td>-1</td>\n",
       "      <td>-1</td>\n",
       "      <td>-1</td>\n",
       "      <td>2.0</td>\n",
       "      <td>-1</td>\n",
       "      <td>-1</td>\n",
       "    </tr>\n",
       "  </tbody>\n",
       "</table>\n",
       "</div>"
      ],
      "text/plain": [
       "        id  week  center_id  meal_id  checkout_price   ...     region_code  center_type  op_area  category  cuisine\n",
       "0  1028232    -1         55     1885          158.11   ...              -1           -1      2.0        -1       -1\n",
       "1  1262649    -1         55     1885          159.11   ...              -1           -1      2.0        -1       -1\n",
       "2  1453211    -1         55     1885          157.14   ...              -1           -1      2.0        -1       -1\n",
       "3  1262599    -1         55     1885          159.14   ...              -1           -1      2.0        -1       -1\n",
       "4  1495848    -1         55     1885          160.11   ...              -1           -1      2.0        -1       -1\n",
       "\n",
       "[5 rows x 14 columns]"
      ]
     },
     "execution_count": 102,
     "metadata": {},
     "output_type": "execute_result"
    }
   ],
   "source": [
    "cat.apply_test(test_processed)\n",
    "norm.apply_test(test_processed)\n",
    "test_processed.head()"
   ]
  },
  {
   "cell_type": "code",
   "execution_count": 90,
   "metadata": {},
   "outputs": [
    {
     "data": {
      "text/plain": [
       "((32573,), (32573,))"
      ]
     },
     "execution_count": 90,
     "metadata": {},
     "output_type": "execute_result"
    }
   ],
   "source": [
    "test_predicted=xgbReg.predict(test_processed[cat_names+cont_names])\n",
    "test_predicted.ravel().shape,test_processed['id'].values.ravel().shape"
   ]
  },
  {
   "cell_type": "code",
   "execution_count": 112,
   "metadata": {},
   "outputs": [
    {
     "name": "stdout",
     "output_type": "stream",
     "text": [
      "[00:19:02] C:\\Users\\Administrator\\Desktop\\xgboost\\src\\tree\\updater_prune.cc:74: tree pruning end, 1 roots, 1788 extra nodes, 0 pruned nodes, max_depth=10\n",
      "[00:19:02] C:\\Users\\Administrator\\Desktop\\xgboost\\src\\tree\\updater_prune.cc:74: tree pruning end, 1 roots, 1896 extra nodes, 0 pruned nodes, max_depth=10\n",
      "[00:19:03] C:\\Users\\Administrator\\Desktop\\xgboost\\src\\tree\\updater_prune.cc:74: tree pruning end, 1 roots, 1934 extra nodes, 0 pruned nodes, max_depth=10\n",
      "[00:19:04] C:\\Users\\Administrator\\Desktop\\xgboost\\src\\tree\\updater_prune.cc:74: tree pruning end, 1 roots, 1864 extra nodes, 0 pruned nodes, max_depth=10\n",
      "[00:19:05] C:\\Users\\Administrator\\Desktop\\xgboost\\src\\tree\\updater_prune.cc:74: tree pruning end, 1 roots, 1842 extra nodes, 0 pruned nodes, max_depth=10\n",
      "[00:19:06] C:\\Users\\Administrator\\Desktop\\xgboost\\src\\tree\\updater_prune.cc:74: tree pruning end, 1 roots, 1902 extra nodes, 0 pruned nodes, max_depth=10\n",
      "[00:19:06] C:\\Users\\Administrator\\Desktop\\xgboost\\src\\tree\\updater_prune.cc:74: tree pruning end, 1 roots, 1894 extra nodes, 0 pruned nodes, max_depth=10\n",
      "[00:19:07] C:\\Users\\Administrator\\Desktop\\xgboost\\src\\tree\\updater_prune.cc:74: tree pruning end, 1 roots, 1818 extra nodes, 0 pruned nodes, max_depth=10\n",
      "[00:19:08] C:\\Users\\Administrator\\Desktop\\xgboost\\src\\tree\\updater_prune.cc:74: tree pruning end, 1 roots, 1768 extra nodes, 0 pruned nodes, max_depth=10\n",
      "[00:19:09] C:\\Users\\Administrator\\Desktop\\xgboost\\src\\tree\\updater_prune.cc:74: tree pruning end, 1 roots, 1746 extra nodes, 0 pruned nodes, max_depth=10\n"
     ]
    }
   ],
   "source": [
    "import xgboost as xgb\n",
    "param = {'max_depth':10, \n",
    "         'subsample':1,\n",
    "         'min_child_weight':0.5,\n",
    "         'eta':0.3, \n",
    "         'num_round':1000, \n",
    "         'seed':1,\n",
    "         'silent':0,\n",
    "         'eval_metric':'rmse'}\n",
    "\n",
    "progress = dict()\n",
    "xgbtrain = xgb.DMatrix(train_processed[cat_names+cont_names],train_processed['num_orders'])\n",
    "watchlist  = [(xgbtrain,'train-rmse')]\n",
    "\n",
    "bst = xgb.train(param, xgbtrain)\n",
    "\n"
   ]
  },
  {
   "cell_type": "code",
   "execution_count": 123,
   "metadata": {},
   "outputs": [
    {
     "data": {
      "text/plain": [
       "[<matplotlib.lines.Line2D at 0x1ff16a74710>]"
      ]
     },
     "execution_count": 123,
     "metadata": {},
     "output_type": "execute_result"
    },
    {
     "data": {
      "image/png": "[encoded data removed]",
      "text/plain": [
       "<Figure size 432x288 with 1 Axes>"
      ]
     },
     "metadata": {},
     "output_type": "display_data"
    }
   ],
   "source": [
    "plt.plot(xgbReg.feature_importances_)"
   ]
  },
  {
   "cell_type": "code",
   "execution_count": 113,
   "metadata": {},
   "outputs": [
    {
     "data": {
      "image/png": "[encoded data removed]",
      "text/plain": [
       "<Figure size 432x288 with 1 Axes>"
      ]
     },
     "metadata": {},
     "output_type": "display_data"
    }
   ],
   "source": [
    "preds = bst.predict(xgb.DMatrix(train_processed2[cat_names+cont_names]))\n",
    "plt.plot(preds,label='predicted')\n",
    "plt.plot(train_processed2['num_orders'].values,label='actual')\n",
    "plt.legend()\n",
    "plt.show()\n"
   ]
  },
  {
   "cell_type": "code",
   "execution_count": 114,
   "metadata": {},
   "outputs": [],
   "source": [
    "sub_df=pd.DataFrame(columns=['id','num_orders'])\n",
    "sub_df['id']=test_processed['id'].values\n",
    "sub_df['num_orders']=test_predicted\n",
    "sub_df.to_csv('sub2.csv',index=False)"
   ]
  },
  {
   "cell_type": "code",
   "execution_count": 111,
   "metadata": {},
   "outputs": [
    {
     "data": {
      "text/plain": [
       "0.758854193745626"
      ]
     },
     "execution_count": 111,
     "metadata": {},
     "output_type": "execute_result"
    }
   ],
   "source": [
    "mean_squared_log_error(train_processed2['num_orders'].values,preds)**0.5"
   ]
  },
  {
   "cell_type": "code",
   "execution_count": 117,
   "metadata": {},
   "outputs": [
    {
     "data": {
      "text/plain": [
       "<matplotlib.axes._subplots.AxesSubplot at 0x1ff0d1302b0>"
      ]
     },
     "execution_count": 117,
     "metadata": {},
     "output_type": "execute_result"
    },
    {
     "data": {
      "image/png": "[encoded data removed]",
      "text/plain": [
       "<Figure size 432x288 with 1 Axes>"
      ]
     },
     "metadata": {},
     "output_type": "display_data"
    }
   ],
   "source": [
    "train_processed['num_orders'].hist(bins=100)"
   ]
  },
  {
   "cell_type": "code",
   "execution_count": 118,
   "metadata": {},
   "outputs": [
    {
     "data": {
      "text/plain": [
       "<matplotlib.axes._subplots.AxesSubplot at 0x1ff0d2f0cf8>"
      ]
     },
     "execution_count": 118,
     "metadata": {},
     "output_type": "execute_result"
    },
    {
     "data": {
      "image/png": "[encoded data removed]",
      "text/plain": [
       "<Figure size 432x288 with 1 Axes>"
      ]
     },
     "metadata": {},
     "output_type": "display_data"
    }
   ],
   "source": [
    "train_processed['base_price'].hist(bins=100)"
   ]
  },
  {
   "cell_type": "code",
   "execution_count": 124,
   "metadata": {},
   "outputs": [
    {
     "name": "stderr",
     "output_type": "stream",
     "text": [
      "F:\\anaconda\\lib\\site-packages\\h5py\\__init__.py:36: FutureWarning: Conversion of the second argument of issubdtype from `float` to `np.floating` is deprecated. In future, it will be treated as `np.float64 == np.dtype(float).type`.\n",
      "  from ._conv import register_converters as _register_converters\n"
     ]
    },
    {
     "data": {
      "text/plain": [
       "'1.10.0'"
      ]
     },
     "execution_count": 124,
     "metadata": {},
     "output_type": "execute_result"
    }
   ],
   "source": [
    "import tensorflow as tf\n",
    "tf.__version__"
   ]
  },
  {
   "cell_type": "code",
   "execution_count": 125,
   "metadata": {},
   "outputs": [
    {
     "data": {
      "text/plain": [
       "<function tensorflow.python.estimator.keras.model_to_estimator(keras_model=None, keras_model_path=None, custom_objects=None, model_dir=None, config=None)>"
      ]
     },
     "execution_count": 125,
     "metadata": {},
     "output_type": "execute_result"
    }
   ],
   "source": [
    "tf.feature_column.embedding_column()"
   ]
  }
 ],
 "metadata": {
  "kernelspec": {
   "display_name": "Python 3",
   "language": "python",
   "name": "python3"
  },
  "language_info": {
   "codemirror_mode": {
    "name": "ipython",
    "version": 3
   },
   "file_extension": ".py",
   "mimetype": "text/x-python",
   "name": "python",
   "nbconvert_exporter": "python",
   "pygments_lexer": "ipython3",
   "version": "3.6.5"
  }
 },
 "nbformat": 4,
 "nbformat_minor": 2
}
